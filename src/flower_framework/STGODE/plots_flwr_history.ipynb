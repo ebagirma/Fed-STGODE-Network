{
 "cells": [
  {
   "cell_type": "code",
   "execution_count": null,
   "metadata": {},
   "outputs": [],
   "source": [
    "import flwr as fl\n",
    "import pickle\n",
    "import matplotlib.pyplot as plt"
   ]
  },
  {
   "cell_type": "code",
   "execution_count": null,
   "metadata": {},
   "outputs": [],
   "source": [
    "with open('flower_history.pkl', 'rb') as f:\n",
    "    history = pickle.load(f)"
   ]
  },
  {
   "cell_type": "code",
   "execution_count": null,
   "metadata": {},
   "outputs": [],
   "source": [
    "# history of each client for training\n",
    "history.metrics_distributed_fit"
   ]
  },
  {
   "cell_type": "code",
   "execution_count": null,
   "metadata": {},
   "outputs": [],
   "source": [
    "# history of each client for validation\n",
    "history.metrics_distributed"
   ]
  },
  {
   "cell_type": "code",
   "execution_count": null,
   "metadata": {},
   "outputs": [],
   "source": [
    "x, y = [], []\n",
    "for average_metrics in history.metrics_distributed['average_metrics']:\n",
    "    x.append(average_metrics[0])\n",
    "    y.append(average_metrics[1]['valid_rmse'])\n",
    "\n",
    "\n",
    "plt.figure(figsize=(12, 6))\n",
    "\n",
    "plt.plot(x, y, label='Average RMSE in each round')\n",
    "plt.xlabel('Rounds')\n",
    "plt.ylabel('RMSE')\n",
    "plt.legend()\n",
    "plt.title('Validation Curve for RMSE')\n",
    "plt.show()\n"
   ]
  },
  {
   "cell_type": "code",
   "execution_count": null,
   "metadata": {},
   "outputs": [],
   "source": [
    "x =  []\n",
    "y = [[] for i in history.metrics_distributed['client_metrics'][0][1]['valid_rmse']]\n",
    "for client_metrics in history.metrics_distributed['client_metrics']:\n",
    "    x.append(client_metrics[0])\n",
    "    for idx, client_loss in enumerate(client_metrics[1]['valid_rmse']):\n",
    "        y[idx].append(client_loss)\n",
    "\n",
    "\n",
    "plt.figure(figsize=(12, 6))\n",
    "for client_num, loss_ in enumerate(y):\n",
    "    plt.plot(x, loss_, label='Validation RMSE of client: '+str(client_num))\n",
    "plt.xlabel('Rounds')\n",
    "plt.ylabel('RMSE')\n",
    "plt.legend()\n",
    "plt.title('Validation Curve for RMSE (individual client)')\n",
    "plt.show()"
   ]
  },
  {
   "cell_type": "code",
   "execution_count": null,
   "metadata": {},
   "outputs": [],
   "source": [
    "x, y = [], []\n",
    "for average_metrics in history.metrics_distributed_fit['average_metrics']:\n",
    "    x.append(average_metrics[0])\n",
    "    y.append(average_metrics[1]['average loss'])\n",
    "\n",
    "\n",
    "plt.figure(figsize=(12, 6))\n",
    "\n",
    "plt.plot(x, y, label='Average loss in each round')\n",
    "plt.xlabel('Rounds')\n",
    "plt.ylabel('Loss')\n",
    "plt.legend()\n",
    "plt.title('Training Curve for Loss')\n",
    "plt.show()"
   ]
  },
  {
   "cell_type": "code",
   "execution_count": null,
   "metadata": {},
   "outputs": [],
   "source": [
    "x =  []\n",
    "y = [[] for i in history.metrics_distributed_fit['client_metrics'][0][1]['loss']]\n",
    "for client_metrics in history.metrics_distributed_fit['client_metrics']:\n",
    "    x.append(client_metrics[0])\n",
    "    for idx, client_loss in enumerate(client_metrics[1]['loss']):\n",
    "        y[idx].append(client_loss)\n",
    "\n",
    "plt.figure(figsize=(12, 6))\n",
    "for client_num, loss_ in enumerate(y):\n",
    "    plt.plot(x, loss_, label='Training Loss of client: '+str(client_num))\n",
    "plt.xlabel('Rounds')\n",
    "plt.ylabel('Loss')\n",
    "plt.legend()\n",
    "plt.title('Training Curve for Loss (individual client)')\n",
    "plt.show()"
   ]
  },
  {
   "cell_type": "code",
   "execution_count": null,
   "metadata": {},
   "outputs": [],
   "source": []
  }
 ],
 "metadata": {
  "language_info": {
   "name": "python"
  },
  "orig_nbformat": 4
 },
 "nbformat": 4,
 "nbformat_minor": 2
}
